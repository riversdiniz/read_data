{
 "cells": [
  {
   "cell_type": "code",
   "execution_count": null,
   "metadata": {},
   "outputs": [],
   "source": [
    "import pandas as pd"
   ]
  },
  {
   "cell_type": "code",
   "execution_count": null,
   "metadata": {},
   "outputs": [],
   "source": [
    "df = pd.read_csv(r\"data\\Clientes.csv\", delimiter=',')\n",
    "df.head()"
   ]
  },
  {
   "cell_type": "code",
   "execution_count": null,
   "metadata": {},
   "outputs": [],
   "source": [
    "# Filtrar 1 item especifico de uma coluna\n",
    "\n",
    "estado = df.loc[df['state'] == 'Mato Grosso']"
   ]
  },
  {
   "cell_type": "code",
   "execution_count": null,
   "metadata": {},
   "outputs": [],
   "source": [
    "estado"
   ]
  },
  {
   "cell_type": "code",
   "execution_count": null,
   "metadata": {},
   "outputs": [],
   "source": [
    "# Escolher estados especificos\n",
    "\n",
    "estado = ['Rio de Janeiro','Ceará', 'Rondônia','Bahia']\n",
    "Df_estados = df.loc[df['state'].isin(estado)]\n",
    "Df_estados"
   ]
  },
  {
   "cell_type": "code",
   "execution_count": null,
   "metadata": {},
   "outputs": [],
   "source": [
    "Df_estados2 = df.loc[df['state'].isin(['Rio de Janeiro','Ceará', 'Rondônia', 'Bahia'])]\n",
    "Df_estados2"
   ]
  },
  {
   "cell_type": "markdown",
   "metadata": {},
   "source": [
    "Tratando dados Nulos"
   ]
  },
  {
   "cell_type": "code",
   "execution_count": null,
   "metadata": {},
   "outputs": [],
   "source": [
    "df"
   ]
  },
  {
   "cell_type": "code",
   "execution_count": null,
   "metadata": {},
   "outputs": [],
   "source": [
    "# Substituir valores nulos\n",
    "\n",
    "df['email'] =              df['email'].fillna('Email nao cadastrado')\n",
    "df['street'] =             df['street'].fillna('Nao Registrado')\n",
    "df['number'] =             df['number'].fillna('Sem numeros')\n",
    "df['additionals'] =        df['additionals'].fillna('Sem Registro')\n",
    "df"
   ]
  },
  {
   "cell_type": "markdown",
   "metadata": {},
   "source": [
    "Metodo Replace"
   ]
  },
  {
   "cell_type": "code",
   "execution_count": null,
   "metadata": {},
   "outputs": [],
   "source": [
    "# Substituindo os nomes dos estados no Dataframe\n",
    "  \n",
    "# df['Coluna'] = df['coluna'].replace(valor_original, valor_substituto)\n"
   ]
  },
  {
   "cell_type": "code",
   "execution_count": null,
   "metadata": {},
   "outputs": [],
   "source": [
    "import pandas as pd\n",
    "\n",
    "# Resetar Data Frame\n",
    "\n",
    "df = pd.read_csv(r\"data\\Clientes.csv\", delimiter=',')\n",
    "df.head()"
   ]
  },
  {
   "cell_type": "code",
   "execution_count": null,
   "metadata": {},
   "outputs": [],
   "source": [
    "df['state'] = df['state'].replace('São Paulo', 'Sao Paulo')"
   ]
  },
  {
   "cell_type": "code",
   "execution_count": null,
   "metadata": {},
   "outputs": [],
   "source": [
    "df"
   ]
  },
  {
   "cell_type": "code",
   "execution_count": null,
   "metadata": {},
   "outputs": [],
   "source": [
    "# Fazendo a substituição de um valor especifico\n",
    "\n",
    "valor_original = 'São Paulo'\n",
    "valor_substituto = 'SP'\n",
    "df['state'] = df['state'].replace(valor_original, valor_substituto)"
   ]
  },
  {
   "cell_type": "code",
   "execution_count": null,
   "metadata": {},
   "outputs": [],
   "source": [
    "df.head(10)"
   ]
  },
  {
   "cell_type": "code",
   "execution_count": null,
   "metadata": {},
   "outputs": [],
   "source": [
    "# Mapeando os nomes dos estados para substituição\n",
    "\n",
    "# Obs itens criados entre chaves {} segnifica dicionario\n",
    "\n",
    "mapeamento = {'Maranhão': 'Maranhao', 'Piauí': 'Piaui', 'Goías': 'Goias'}\n",
    "\n",
    "#Substituindo os nomes dos estados no Dataframe\n",
    "\n",
    "df['state'] = df['state'].replace(mapeamento)"
   ]
  },
  {
   "cell_type": "code",
   "execution_count": null,
   "metadata": {},
   "outputs": [],
   "source": [
    "df.head(30)"
   ]
  }
 ],
 "metadata": {
  "kernelspec": {
   "display_name": "Python 3",
   "language": "python",
   "name": "python3"
  },
  "language_info": {
   "codemirror_mode": {
    "name": "ipython",
    "version": 3
   },
   "file_extension": ".py",
   "mimetype": "text/x-python",
   "name": "python",
   "nbconvert_exporter": "python",
   "pygments_lexer": "ipython3",
   "version": "3.12.3"
  }
 },
 "nbformat": 4,
 "nbformat_minor": 2
}
