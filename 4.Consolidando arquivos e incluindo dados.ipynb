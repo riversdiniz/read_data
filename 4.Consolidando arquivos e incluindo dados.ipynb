{
 "cells": [
  {
   "cell_type": "code",
   "execution_count": null,
   "metadata": {},
   "outputs": [],
   "source": [
    "import pandas as pd\n",
    "import os"
   ]
  },
  {
   "cell_type": "code",
   "execution_count": null,
   "metadata": {},
   "outputs": [],
   "source": [
    "# Diretorio dos arquivos Excel\n",
    "\n",
    "diretorio = (r\"data\\Consolidar_data\")\n",
    "\n",
    "# Lista para armazenar os dados dos arquivos\n",
    "\n",
    "dados = []\n",
    "\n",
    "# Iterar sobre os arquivos Excel no diretorio\n",
    "\n",
    "for arquivo in os.listdir(diretorio):\n",
    "    if arquivo.endswith('.xlsx'):\n",
    "        caminho_arquivo = os.path.join(diretorio, arquivo)\n",
    "        df = pd.read_excel(caminho_arquivo)\n",
    "        dados.append(df)\n",
    "\n",
    "# Consolidar os dados em um único Dataframe\n",
    "\n",
    "consolidado = pd.concat(dados)\n",
    "\n",
    "consolidado.head()"
   ]
  },
  {
   "cell_type": "markdown",
   "metadata": {},
   "source": [
    "Verificar se arquivo ja existe e adicionar no final"
   ]
  },
  {
   "cell_type": "code",
   "execution_count": 46,
   "metadata": {},
   "outputs": [],
   "source": [
    "# Caminho da pasta onde será salvo o arquivo CSV\n",
    "\n",
    "pasta_destino = r'data\\\\Consolidar_data\\\\Arquivos_consolidados\\\\'\n",
    "\n",
    "# nome do arquivo Excel (Variavel)\n",
    "\n",
    "nome_arquivo = 'VendasGeralTeste.xlxs'\n",
    "\n",
    "# Caminho completo do arquivo Excel\n",
    "\n",
    "Caminho_Completo = pasta_destino + nome_arquivo\n",
    "\n",
    "if os.path.exists(Caminho_Completo):\n",
    "    # Carregar o arquivo Excel consolidado existente em um DataFrame\n",
    "    df_existente = pd.read_excel(Caminho_Completo)\n",
    "    # adicionar os dados existentes ao DataFrame consolidando\n",
    "    dados.append(df_existente)\n",
    "\n",
    "    # Consolidar dos dados em um único DataFrame\n",
    "    \n",
    "    consolidadoExcel = pd.concat(dados)\n",
    "\n",
    "    # Salvar o DataFrame consolidado como arquivo Excel\n",
    "\n",
    "    consolidadoExcel.to_csv(Caminho_Completo, index=False)\n"
   ]
  }
 ],
 "metadata": {
  "kernelspec": {
   "display_name": "Python 3",
   "language": "python",
   "name": "python3"
  },
  "language_info": {
   "codemirror_mode": {
    "name": "ipython",
    "version": 3
   },
   "file_extension": ".py",
   "mimetype": "text/x-python",
   "name": "python",
   "nbconvert_exporter": "python",
   "pygments_lexer": "ipython3",
   "version": "3.12.3"
  }
 },
 "nbformat": 4,
 "nbformat_minor": 2
}
