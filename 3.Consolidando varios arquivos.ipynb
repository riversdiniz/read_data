{
 "cells": [
  {
   "cell_type": "code",
   "execution_count": null,
   "metadata": {},
   "outputs": [],
   "source": [
    "import pandas as pd\n",
    "import os"
   ]
  },
  {
   "cell_type": "code",
   "execution_count": null,
   "metadata": {},
   "outputs": [],
   "source": [
    "vendas2021 = pd.read_excel(r\"data\\Consolidar_data\\Vendas2021.xlsx\")\n",
    "vendas2022 = pd.read_excel(r\"data\\Consolidar_data\\Vendas2022.xlsx\")\n",
    "vendas2023 = pd.read_excel(r\"data\\Consolidar_data\\Vendas2023.xlsx\")"
   ]
  },
  {
   "cell_type": "code",
   "execution_count": null,
   "metadata": {},
   "outputs": [],
   "source": [
    "vendas2021.head(3)"
   ]
  },
  {
   "cell_type": "code",
   "execution_count": null,
   "metadata": {},
   "outputs": [],
   "source": [
    "vendas2022.head(3)"
   ]
  },
  {
   "cell_type": "code",
   "execution_count": null,
   "metadata": {},
   "outputs": [],
   "source": [
    "vendas2023.head(3)"
   ]
  },
  {
   "cell_type": "markdown",
   "metadata": {},
   "source": [
    "Consolidando arquivos de uma pasta"
   ]
  },
  {
   "cell_type": "code",
   "execution_count": null,
   "metadata": {},
   "outputs": [],
   "source": [
    "import pandas as pd\n",
    "import os\n",
    "\n",
    "# Diretorio dos arquivos Excel\n",
    "\n",
    "diretorio = (r\"data\\Consolidar_data\")\n",
    "\n",
    "# Lista para armazenar os dados dos arquivos\n",
    "\n",
    "dados = []\n",
    "\n",
    "# Iterar sobre os arquivos Excel no diretorio\n",
    "\n",
    "for arquivo in os.listdir(diretorio):\n",
    "    if arquivo.endswith('.xlsx'):\n",
    "        caminho_arquivo = os.path.join(diretorio, arquivo)\n",
    "        df = pd.read_excel(caminho_arquivo)\n",
    "        dados.append(df)\n",
    "\n",
    "# Consolidar os dados em um único Dataframe\n",
    "\n",
    "consolidado = pd.concat(dados)\n",
    "consolidado.head()"
   ]
  },
  {
   "cell_type": "markdown",
   "metadata": {},
   "source": [
    "Salvando consolidado em uma pasta especifica Formato Excel XLSX"
   ]
  },
  {
   "cell_type": "code",
   "execution_count": null,
   "metadata": {},
   "outputs": [],
   "source": [
    "# Caminho da pasta onde será salvo o arquivo XLSX\n",
    "\n",
    "pasta_destino = r'data\\\\Consolidar_data\\\\Arquivos_consolidados\\\\'\n",
    "\n",
    "# Nome do arquivo Excel (Variavel)\n",
    "\n",
    "nome_arquivo = 'VendasGeral.xlsx'\n",
    "\n",
    "# Caminho completo do arquivo Excel\n",
    "\n",
    "Caminho_Completo = pasta_destino + nome_arquivo\n",
    "\n",
    "# Salvar o Dataframe como arquivo XLSX\n",
    "\n",
    "consolidado.to_excel(Caminho_Completo, index=False)"
   ]
  },
  {
   "cell_type": "markdown",
   "metadata": {},
   "source": [
    "Salvando consolidado em uma pasta especifica Formato CSV"
   ]
  },
  {
   "cell_type": "code",
   "execution_count": null,
   "metadata": {},
   "outputs": [],
   "source": [
    "# Caminho da pasta onde será salvo o arquivo CSV\n",
    "\n",
    "pasta_destino = r'data\\\\Consolidar_data\\\\Arquivos_consolidados\\\\'\n",
    "\n",
    "# nome do arquivo Excel (Variavel)\n",
    "\n",
    "nome_arquivo = 'VendasGeral.csv'\n",
    "\n",
    "# Caminho completo do arquivo Excel\n",
    "\n",
    "Caminho_Completo = pasta_destino + nome_arquivo\n",
    "\n",
    "# Salvar o Dataframe como arquivo CSV\n",
    "\n",
    "consolidado.to_csv(Caminho_Completo, index=False,sep=',')"
   ]
  },
  {
   "cell_type": "markdown",
   "metadata": {},
   "source": [
    "Salvando consolidado em uma pasta especifica Formato TXT"
   ]
  },
  {
   "cell_type": "code",
   "execution_count": null,
   "metadata": {},
   "outputs": [],
   "source": [
    "# Caminho da pasta onde será salvo o arquivo TXT\n",
    "\n",
    "pasta_destino = r'data\\\\Consolidar_data\\\\Arquivos_consolidados\\\\'\n",
    "\n",
    "# nome do arquivo Excel (Variavel)\n",
    "\n",
    "nome_arquivo = 'VendasGeral.txt'\n",
    "\n",
    "# Caminho completo do arquivo Excel\n",
    "\n",
    "Caminho_Completo = pasta_destino + nome_arquivo\n",
    "\n",
    "# Salvar o Dataframe como arquivo TXT\n",
    "\n",
    "consolidado.to_csv(Caminho_Completo, index=False,sep=',')"
   ]
  },
  {
   "cell_type": "markdown",
   "metadata": {},
   "source": [
    "Resumo de treino"
   ]
  },
  {
   "cell_type": "code",
   "execution_count": null,
   "metadata": {},
   "outputs": [],
   "source": [
    "# Bibliotecas\n",
    "\n",
    "import pandas as pd\n",
    "import os\n",
    "\n",
    "# Diretorio dos arquivos Excel CSV\n",
    "\n",
    "diretorio = (r\"data\\Consolidar_data\")\n",
    "\n",
    "# Lista para armazenar os dados dos arquivos\n",
    "\n",
    "dados = []\n",
    "\n",
    "# Iterar sobre os arquivos Excel no diretorio\n",
    "\n",
    "for arquivo in os.listdir(diretorio):                       # LOOP NA PASTA (DIRETÓRIO) \n",
    "    if arquivo.endswith('.xlsx'):                           # ACHAR SOMENTE ARQUIVOS DO EXCEL\n",
    "        caminho_arquivo = os.path.join(diretorio, arquivo)  # PECORRER CADA ARQUIVO\n",
    "        df = pd.read_excel(caminho_arquivo)                 # LER OS DADOS\n",
    "        dados.append(df)                                    # ARMAZENAR NA ULTIMA LINHA 1 A 1 DOS ARQUIVOS\n",
    "\n",
    "# Consolidar os dados em um único Dataframe\n",
    "\n",
    "consolidado = pd.concat(dados)\n",
    "consolidado.head()"
   ]
  }
 ],
 "metadata": {
  "kernelspec": {
   "display_name": "Python 3",
   "language": "python",
   "name": "python3"
  },
  "language_info": {
   "codemirror_mode": {
    "name": "ipython",
    "version": 3
   },
   "file_extension": ".py",
   "mimetype": "text/x-python",
   "name": "python",
   "nbconvert_exporter": "python",
   "pygments_lexer": "ipython3",
   "version": "3.12.3"
  }
 },
 "nbformat": 4,
 "nbformat_minor": 2
}
